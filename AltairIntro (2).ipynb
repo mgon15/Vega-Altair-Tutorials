{
  "nbformat": 4,
  "nbformat_minor": 0,
  "metadata": {
    "colab": {
      "provenance": []
    },
    "kernelspec": {
      "name": "python3",
      "display_name": "Python 3"
    },
    "language_info": {
      "name": "python"
    }
  },
  "cells": [
    {
      "cell_type": "markdown",
      "source": [
        "## Librería Altair: Introducción\n",
        "\n",
        "Durante este JN ilustraré como instalar, importar y manejar algunas herramientas básicas de la librería Altair.\n",
        "\n",
        " Vega-Altair es una librería de visualización dinámica, basada en Vega-Lite. Usa una gramática simplificada, que permite plotear gráficos complejos mediante un código bastante accesible. Se trabaja principalmente en conjunto con pandas Dataframe, con lo que se aconseja manejar superficialmente esta librería. La información de esta práctica se puede encontrar [aquí](https://altair-viz.github.io/).\n",
        "\n",
        "\n",
        " Este primer tutorial es básico, y espera servir como toma de contacto con la librería.\n",
        "\n",
        " Duración estimada: 1 hora.\n"
      ],
      "metadata": {
        "id": "QyatDZVDSBLe"
      }
    },
    {
      "cell_type": "markdown",
      "source": [
        "Lo primero es instalar Altair:"
      ],
      "metadata": {
        "id": "JNBoiM5USOxt"
      }
    },
    {
      "cell_type": "code",
      "source": [
        "!pip install altair"
      ],
      "metadata": {
        "colab": {
          "base_uri": "https://localhost:8080/"
        },
        "id": "C-WMgm_eSN4M",
        "outputId": "d18875f9-bcbc-4b6f-a4f4-349323f1d077"
      },
      "execution_count": null,
      "outputs": [
        {
          "output_type": "stream",
          "name": "stdout",
          "text": [
            "Requirement already satisfied: altair in /usr/local/lib/python3.10/dist-packages (4.2.2)\n",
            "Requirement already satisfied: entrypoints in /usr/local/lib/python3.10/dist-packages (from altair) (0.4)\n",
            "Requirement already satisfied: jinja2 in /usr/local/lib/python3.10/dist-packages (from altair) (3.1.4)\n",
            "Requirement already satisfied: jsonschema>=3.0 in /usr/local/lib/python3.10/dist-packages (from altair) (4.23.0)\n",
            "Requirement already satisfied: numpy in /usr/local/lib/python3.10/dist-packages (from altair) (1.26.4)\n",
            "Requirement already satisfied: pandas>=0.18 in /usr/local/lib/python3.10/dist-packages (from altair) (2.2.2)\n",
            "Requirement already satisfied: toolz in /usr/local/lib/python3.10/dist-packages (from altair) (0.12.1)\n",
            "Requirement already satisfied: attrs>=22.2.0 in /usr/local/lib/python3.10/dist-packages (from jsonschema>=3.0->altair) (24.2.0)\n",
            "Requirement already satisfied: jsonschema-specifications>=2023.03.6 in /usr/local/lib/python3.10/dist-packages (from jsonschema>=3.0->altair) (2023.12.1)\n",
            "Requirement already satisfied: referencing>=0.28.4 in /usr/local/lib/python3.10/dist-packages (from jsonschema>=3.0->altair) (0.35.1)\n",
            "Requirement already satisfied: rpds-py>=0.7.1 in /usr/local/lib/python3.10/dist-packages (from jsonschema>=3.0->altair) (0.20.0)\n",
            "Requirement already satisfied: python-dateutil>=2.8.2 in /usr/local/lib/python3.10/dist-packages (from pandas>=0.18->altair) (2.8.2)\n",
            "Requirement already satisfied: pytz>=2020.1 in /usr/local/lib/python3.10/dist-packages (from pandas>=0.18->altair) (2024.2)\n",
            "Requirement already satisfied: tzdata>=2022.7 in /usr/local/lib/python3.10/dist-packages (from pandas>=0.18->altair) (2024.2)\n",
            "Requirement already satisfied: MarkupSafe>=2.0 in /usr/local/lib/python3.10/dist-packages (from jinja2->altair) (2.1.5)\n",
            "Requirement already satisfied: six>=1.5 in /usr/local/lib/python3.10/dist-packages (from python-dateutil>=2.8.2->pandas>=0.18->altair) (1.16.0)\n"
          ]
        }
      ]
    },
    {
      "cell_type": "markdown",
      "source": [
        "A continuación importamos las librerías necesarias."
      ],
      "metadata": {
        "id": "4sR-052yTA_s"
      }
    },
    {
      "cell_type": "code",
      "source": [
        "import altair as alt\n",
        "import pandas as pd\n",
        "import numpy as np\n",
        "# Esto es necesario para importar datasets de vega (para más adelante):\n",
        "\n",
        "!pip install vega_datasets\n",
        "# from vega_datasets import data\n",
        "# movie_sample = data.movies()\n",
        "# movie_sample.head()"
      ],
      "metadata": {
        "colab": {
          "base_uri": "https://localhost:8080/"
        },
        "id": "_LCD1o9gTFxF",
        "outputId": "cb5334a9-3151-4bfc-c5f1-4996cf5c96ca"
      },
      "execution_count": null,
      "outputs": [
        {
          "output_type": "stream",
          "name": "stdout",
          "text": [
            "Requirement already satisfied: vega_datasets in /usr/local/lib/python3.10/dist-packages (0.9.0)\n",
            "Requirement already satisfied: pandas in /usr/local/lib/python3.10/dist-packages (from vega_datasets) (2.2.2)\n",
            "Requirement already satisfied: numpy>=1.22.4 in /usr/local/lib/python3.10/dist-packages (from pandas->vega_datasets) (1.26.4)\n",
            "Requirement already satisfied: python-dateutil>=2.8.2 in /usr/local/lib/python3.10/dist-packages (from pandas->vega_datasets) (2.8.2)\n",
            "Requirement already satisfied: pytz>=2020.1 in /usr/local/lib/python3.10/dist-packages (from pandas->vega_datasets) (2024.2)\n",
            "Requirement already satisfied: tzdata>=2022.7 in /usr/local/lib/python3.10/dist-packages (from pandas->vega_datasets) (2024.2)\n",
            "Requirement already satisfied: six>=1.5 in /usr/local/lib/python3.10/dist-packages (from python-dateutil>=2.8.2->pandas->vega_datasets) (1.16.0)\n"
          ]
        }
      ]
    },
    {
      "cell_type": "markdown",
      "source": [
        "# Uso de Chart\n",
        "\n",
        "Chart es el objeto fundamental en Altair. Chart toma como argumento un dataframe, y posteriormente nos permite hacer ciertas operaciones con los datos.\n",
        "Por sí solo, Chart no tiene utilidad, hay que usarlo junto con otros métodos que veremos a continuación."
      ],
      "metadata": {
        "id": "HXNS4cXWUqfu"
      }
    },
    {
      "cell_type": "code",
      "source": [
        "ex_dataframe = pd.DataFrame({\n",
        "    'a': ['A', 'B', 'C', 'D', 'E', 'F', 'G', 'H', 'I'],\n",
        "    'b': [2, 7, 4, 1, 2, 6, 8, 4, 7]\n",
        "})\n",
        "\n",
        "first_chart = alt.Chart(ex_dataframe)"
      ],
      "metadata": {
        "id": "ohf4UzqSgTsT"
      },
      "execution_count": null,
      "outputs": []
    },
    {
      "cell_type": "markdown",
      "source": [
        "## Métodos mark y encode.\n",
        "\n",
        "Vamos a comenzar hablando del método **mark**. La gramática de estos métodos es de la forma: ChartObject.mark.*()\n",
        "Sirven para definir el tipo de gráfico que queremos crear. A continuación listo algunos de los más comunes:\n",
        "\n",
        "\n",
        "*   mark_point() : Gráfico de puntos.\n",
        "*   mark_line() : Gráfico de líneas.\n",
        "*   mark_bar() : Gráfico de barras.\n",
        "*   mark_area(): Gráfico de áreas.\n",
        "*   mark_circle(): Similar a los puntos, pero con círculos.\n",
        "*   mark_square(): Similar a los puntos, pero con cuadrados.\n",
        "\n",
        "Complementario a estos recursos, encontramos el método **encode()**.\n",
        "\n",
        "Este método mapea las columnas de un DataFrame a los ejes visuales, además de permitir modificar otros atributos visuales. Los principales parámetros que permiten son los siguientes:\n",
        "\n",
        "\n",
        "*   x = 'Variable1' : Asigna la variable 1 al eje x.\n",
        "*   y = 'Variable2' : Asigna la variable 2 al eje y.\n",
        "*   color = 'Variable3' : Cambia el color de los elementos clasificandolos respecto a la variable 3.\n",
        "*   size = 'Variable4' : Cambia el tamaño de los elementos clasificandolos respecto a la variable 4.\n",
        "*   shape = 'Variable5' : Cambia la forma de los puntos clasificándolos respecto a la variable 5.\n",
        "\n",
        "Para crear gráficos, ambos métodos se deben usar juntos. Veamos algunos ejemplos:\n",
        "\n",
        "\n",
        "\n"
      ],
      "metadata": {
        "id": "1vutX6z_V4Bt"
      }
    },
    {
      "cell_type": "markdown",
      "source": [
        "# Ejemplo: Análisis y visualización con Altair.\n",
        "\n",
        "Vamos a usar un dataframe de ejemplo, el cual tendrá la información de ventas y gastos de una empresa a lo largo de 5 días consecutivos. Más adelante trabajaremos con df más complejos."
      ],
      "metadata": {
        "id": "IHD4nCd7e9Te"
      }
    },
    {
      "cell_type": "code",
      "source": [
        "# Vamos a reducir la cantidad de datos para aligerar el proceso.\n",
        "\n",
        "# Crear un DataFrame de ejemplo.\n",
        "data = {\n",
        "    'Fecha': pd.to_datetime(['2023-01-01', '2023-01-02', '2023-01-03', '2023-01-04', '2023-01-05']),\n",
        "    'Ventas': [100, 150, 120, 180, 200],\n",
        "    'Gastos': [50, 60, 55, 70, 80],\n",
        "    'Categoria': ['A', 'B', 'A', 'B', 'A']\n",
        "}\n",
        "df = pd.DataFrame(data)\n",
        "\n",
        "\n",
        "# Vamos a plotear distintos gráficos usando altair:\n",
        "\n",
        "ex_chart = alt.Chart(df)\n",
        "\n",
        "# Gráfico mostrando las ventas por fecha, clasificándolas por categoría.\n",
        "ex_chart.mark_point().encode(\n",
        "    x='Fecha',\n",
        "    y='Ventas',\n",
        "    color='Categoria'\n",
        ")"
      ],
      "metadata": {
        "colab": {
          "base_uri": "https://localhost:8080/",
          "height": 423
        },
        "id": "2I9CRtlKxwcN",
        "outputId": "a62fe2b1-4ed4-4b86-b171-8723bc83bf72"
      },
      "execution_count": null,
      "outputs": [
        {
          "output_type": "stream",
          "name": "stderr",
          "text": [
            "/usr/local/lib/python3.10/dist-packages/altair/utils/core.py:384: FutureWarning: the convert_dtype parameter is deprecated and will be removed in a future version.  Do ``ser.astype(object).apply()`` instead if you want ``convert_dtype=False``.\n",
            "  col = df[col_name].apply(to_list_if_array, convert_dtype=False)\n"
          ]
        },
        {
          "output_type": "execute_result",
          "data": {
            "text/html": [
              "\n",
              "<div id=\"altair-viz-91971abaca2e496ca0e5a45b52d943e7\"></div>\n",
              "<script type=\"text/javascript\">\n",
              "  var VEGA_DEBUG = (typeof VEGA_DEBUG == \"undefined\") ? {} : VEGA_DEBUG;\n",
              "  (function(spec, embedOpt){\n",
              "    let outputDiv = document.currentScript.previousElementSibling;\n",
              "    if (outputDiv.id !== \"altair-viz-91971abaca2e496ca0e5a45b52d943e7\") {\n",
              "      outputDiv = document.getElementById(\"altair-viz-91971abaca2e496ca0e5a45b52d943e7\");\n",
              "    }\n",
              "    const paths = {\n",
              "      \"vega\": \"https://cdn.jsdelivr.net/npm//vega@5?noext\",\n",
              "      \"vega-lib\": \"https://cdn.jsdelivr.net/npm//vega-lib?noext\",\n",
              "      \"vega-lite\": \"https://cdn.jsdelivr.net/npm//vega-lite@4.17.0?noext\",\n",
              "      \"vega-embed\": \"https://cdn.jsdelivr.net/npm//vega-embed@6?noext\",\n",
              "    };\n",
              "\n",
              "    function maybeLoadScript(lib, version) {\n",
              "      var key = `${lib.replace(\"-\", \"\")}_version`;\n",
              "      return (VEGA_DEBUG[key] == version) ?\n",
              "        Promise.resolve(paths[lib]) :\n",
              "        new Promise(function(resolve, reject) {\n",
              "          var s = document.createElement('script');\n",
              "          document.getElementsByTagName(\"head\")[0].appendChild(s);\n",
              "          s.async = true;\n",
              "          s.onload = () => {\n",
              "            VEGA_DEBUG[key] = version;\n",
              "            return resolve(paths[lib]);\n",
              "          };\n",
              "          s.onerror = () => reject(`Error loading script: ${paths[lib]}`);\n",
              "          s.src = paths[lib];\n",
              "        });\n",
              "    }\n",
              "\n",
              "    function showError(err) {\n",
              "      outputDiv.innerHTML = `<div class=\"error\" style=\"color:red;\">${err}</div>`;\n",
              "      throw err;\n",
              "    }\n",
              "\n",
              "    function displayChart(vegaEmbed) {\n",
              "      vegaEmbed(outputDiv, spec, embedOpt)\n",
              "        .catch(err => showError(`Javascript Error: ${err.message}<br>This usually means there's a typo in your chart specification. See the javascript console for the full traceback.`));\n",
              "    }\n",
              "\n",
              "    if(typeof define === \"function\" && define.amd) {\n",
              "      requirejs.config({paths});\n",
              "      require([\"vega-embed\"], displayChart, err => showError(`Error loading script: ${err.message}`));\n",
              "    } else {\n",
              "      maybeLoadScript(\"vega\", \"5\")\n",
              "        .then(() => maybeLoadScript(\"vega-lite\", \"4.17.0\"))\n",
              "        .then(() => maybeLoadScript(\"vega-embed\", \"6\"))\n",
              "        .catch(showError)\n",
              "        .then(() => displayChart(vegaEmbed));\n",
              "    }\n",
              "  })({\"config\": {\"view\": {\"continuousWidth\": 400, \"continuousHeight\": 300}}, \"data\": {\"name\": \"data-ca0ced7642aa3b5d5aa250f64685fd0d\"}, \"mark\": \"point\", \"encoding\": {\"color\": {\"field\": \"Categoria\", \"type\": \"nominal\"}, \"x\": {\"field\": \"Fecha\", \"type\": \"temporal\"}, \"y\": {\"field\": \"Ventas\", \"type\": \"quantitative\"}}, \"$schema\": \"https://vega.github.io/schema/vega-lite/v4.17.0.json\", \"datasets\": {\"data-ca0ced7642aa3b5d5aa250f64685fd0d\": [{\"Fecha\": \"2023-01-01T00:00:00\", \"Ventas\": 100, \"Gastos\": 50, \"Categoria\": \"A\"}, {\"Fecha\": \"2023-01-02T00:00:00\", \"Ventas\": 150, \"Gastos\": 60, \"Categoria\": \"B\"}, {\"Fecha\": \"2023-01-03T00:00:00\", \"Ventas\": 120, \"Gastos\": 55, \"Categoria\": \"A\"}, {\"Fecha\": \"2023-01-04T00:00:00\", \"Ventas\": 180, \"Gastos\": 70, \"Categoria\": \"B\"}, {\"Fecha\": \"2023-01-05T00:00:00\", \"Ventas\": 200, \"Gastos\": 80, \"Categoria\": \"A\"}]}}, {\"mode\": \"vega-lite\"});\n",
              "</script>"
            ],
            "text/plain": [
              "alt.Chart(...)"
            ]
          },
          "metadata": {},
          "execution_count": 17
        }
      ]
    },
    {
      "cell_type": "code",
      "source": [
        "# Veamos otro ejemplo, vamos a ver los beneficios de la empresa en función de las ventas:\n",
        "\n",
        "# Agregar una columna calculada\n",
        "df['Beneficio'] = df['Ventas'] - df['Gastos']\n",
        "\n",
        "ex_chart.mark_bar().encode(\n",
        "    x='Gastos',\n",
        "    y='Beneficio',\n",
        "    color='Fecha'\n",
        ")"
      ],
      "metadata": {
        "colab": {
          "base_uri": "https://localhost:8080/",
          "height": 423
        },
        "id": "WZHlJGsgRcxr",
        "outputId": "705ea0df-1ecf-4224-db18-5821065ce196"
      },
      "execution_count": null,
      "outputs": [
        {
          "output_type": "stream",
          "name": "stderr",
          "text": [
            "/usr/local/lib/python3.10/dist-packages/altair/utils/core.py:384: FutureWarning: the convert_dtype parameter is deprecated and will be removed in a future version.  Do ``ser.astype(object).apply()`` instead if you want ``convert_dtype=False``.\n",
            "  col = df[col_name].apply(to_list_if_array, convert_dtype=False)\n"
          ]
        },
        {
          "output_type": "execute_result",
          "data": {
            "text/html": [
              "\n",
              "<div id=\"altair-viz-f112a6aa263a462ea6291625fdd4bb7c\"></div>\n",
              "<script type=\"text/javascript\">\n",
              "  var VEGA_DEBUG = (typeof VEGA_DEBUG == \"undefined\") ? {} : VEGA_DEBUG;\n",
              "  (function(spec, embedOpt){\n",
              "    let outputDiv = document.currentScript.previousElementSibling;\n",
              "    if (outputDiv.id !== \"altair-viz-f112a6aa263a462ea6291625fdd4bb7c\") {\n",
              "      outputDiv = document.getElementById(\"altair-viz-f112a6aa263a462ea6291625fdd4bb7c\");\n",
              "    }\n",
              "    const paths = {\n",
              "      \"vega\": \"https://cdn.jsdelivr.net/npm//vega@5?noext\",\n",
              "      \"vega-lib\": \"https://cdn.jsdelivr.net/npm//vega-lib?noext\",\n",
              "      \"vega-lite\": \"https://cdn.jsdelivr.net/npm//vega-lite@4.17.0?noext\",\n",
              "      \"vega-embed\": \"https://cdn.jsdelivr.net/npm//vega-embed@6?noext\",\n",
              "    };\n",
              "\n",
              "    function maybeLoadScript(lib, version) {\n",
              "      var key = `${lib.replace(\"-\", \"\")}_version`;\n",
              "      return (VEGA_DEBUG[key] == version) ?\n",
              "        Promise.resolve(paths[lib]) :\n",
              "        new Promise(function(resolve, reject) {\n",
              "          var s = document.createElement('script');\n",
              "          document.getElementsByTagName(\"head\")[0].appendChild(s);\n",
              "          s.async = true;\n",
              "          s.onload = () => {\n",
              "            VEGA_DEBUG[key] = version;\n",
              "            return resolve(paths[lib]);\n",
              "          };\n",
              "          s.onerror = () => reject(`Error loading script: ${paths[lib]}`);\n",
              "          s.src = paths[lib];\n",
              "        });\n",
              "    }\n",
              "\n",
              "    function showError(err) {\n",
              "      outputDiv.innerHTML = `<div class=\"error\" style=\"color:red;\">${err}</div>`;\n",
              "      throw err;\n",
              "    }\n",
              "\n",
              "    function displayChart(vegaEmbed) {\n",
              "      vegaEmbed(outputDiv, spec, embedOpt)\n",
              "        .catch(err => showError(`Javascript Error: ${err.message}<br>This usually means there's a typo in your chart specification. See the javascript console for the full traceback.`));\n",
              "    }\n",
              "\n",
              "    if(typeof define === \"function\" && define.amd) {\n",
              "      requirejs.config({paths});\n",
              "      require([\"vega-embed\"], displayChart, err => showError(`Error loading script: ${err.message}`));\n",
              "    } else {\n",
              "      maybeLoadScript(\"vega\", \"5\")\n",
              "        .then(() => maybeLoadScript(\"vega-lite\", \"4.17.0\"))\n",
              "        .then(() => maybeLoadScript(\"vega-embed\", \"6\"))\n",
              "        .catch(showError)\n",
              "        .then(() => displayChart(vegaEmbed));\n",
              "    }\n",
              "  })({\"config\": {\"view\": {\"continuousWidth\": 400, \"continuousHeight\": 300}}, \"data\": {\"name\": \"data-37fe39cc8fb7ef967947cd52c5db29fb\"}, \"mark\": \"bar\", \"encoding\": {\"color\": {\"field\": \"Fecha\", \"type\": \"temporal\"}, \"x\": {\"field\": \"Gastos\", \"type\": \"quantitative\"}, \"y\": {\"field\": \"Beneficio\", \"type\": \"quantitative\"}}, \"$schema\": \"https://vega.github.io/schema/vega-lite/v4.17.0.json\", \"datasets\": {\"data-37fe39cc8fb7ef967947cd52c5db29fb\": [{\"Fecha\": \"2023-01-01T00:00:00\", \"Ventas\": 100, \"Gastos\": 50, \"Categoria\": \"A\", \"Beneficio\": 50}, {\"Fecha\": \"2023-01-02T00:00:00\", \"Ventas\": 150, \"Gastos\": 60, \"Categoria\": \"B\", \"Beneficio\": 90}, {\"Fecha\": \"2023-01-03T00:00:00\", \"Ventas\": 120, \"Gastos\": 55, \"Categoria\": \"A\", \"Beneficio\": 65}, {\"Fecha\": \"2023-01-04T00:00:00\", \"Ventas\": 180, \"Gastos\": 70, \"Categoria\": \"B\", \"Beneficio\": 110}, {\"Fecha\": \"2023-01-05T00:00:00\", \"Ventas\": 200, \"Gastos\": 80, \"Categoria\": \"A\", \"Beneficio\": 120}]}}, {\"mode\": \"vega-lite\"});\n",
              "</script>"
            ],
            "text/plain": [
              "alt.Chart(...)"
            ]
          },
          "metadata": {},
          "execution_count": 25
        }
      ]
    },
    {
      "cell_type": "markdown",
      "source": [
        "# Algunas herramientas útiles.\n",
        "\n",
        "## Modificar los ejes.\n",
        "\n",
        "La librería Altair también permite alterar el formato de los ejes, como cambiarles el título, tamaño, ect.\n",
        "\n",
        "Esto es posible usando: Alt.'eje', veamos algunos ejemplos con las gráficas anteriores:"
      ],
      "metadata": {
        "id": "mX19H35ER6la"
      }
    },
    {
      "cell_type": "code",
      "source": [
        "ex_chart.mark_point().encode(\n",
        "    alt.X('Fecha'),\n",
        "    alt.Y('Ventas', axis = alt.Axis(title='Ventas de cada día'), scale= alt.Scale(domain=(100, 200), reverse=True)),\n",
        "    alt.Color('Categoria', scale=alt.Scale(scheme='darkblue'))\n",
        ")"
      ],
      "metadata": {
        "colab": {
          "base_uri": "https://localhost:8080/",
          "height": 423
        },
        "id": "MrPszxBZTPbK",
        "outputId": "afe15b65-295b-4447-9f17-aba9ed9cbbcc"
      },
      "execution_count": null,
      "outputs": [
        {
          "output_type": "stream",
          "name": "stderr",
          "text": [
            "/usr/local/lib/python3.10/dist-packages/altair/utils/core.py:384: FutureWarning: the convert_dtype parameter is deprecated and will be removed in a future version.  Do ``ser.astype(object).apply()`` instead if you want ``convert_dtype=False``.\n",
            "  col = df[col_name].apply(to_list_if_array, convert_dtype=False)\n"
          ]
        },
        {
          "output_type": "execute_result",
          "data": {
            "text/html": [
              "\n",
              "<div id=\"altair-viz-424783899f3b44ceb6f089af52a2b3ea\"></div>\n",
              "<script type=\"text/javascript\">\n",
              "  var VEGA_DEBUG = (typeof VEGA_DEBUG == \"undefined\") ? {} : VEGA_DEBUG;\n",
              "  (function(spec, embedOpt){\n",
              "    let outputDiv = document.currentScript.previousElementSibling;\n",
              "    if (outputDiv.id !== \"altair-viz-424783899f3b44ceb6f089af52a2b3ea\") {\n",
              "      outputDiv = document.getElementById(\"altair-viz-424783899f3b44ceb6f089af52a2b3ea\");\n",
              "    }\n",
              "    const paths = {\n",
              "      \"vega\": \"https://cdn.jsdelivr.net/npm//vega@5?noext\",\n",
              "      \"vega-lib\": \"https://cdn.jsdelivr.net/npm//vega-lib?noext\",\n",
              "      \"vega-lite\": \"https://cdn.jsdelivr.net/npm//vega-lite@4.17.0?noext\",\n",
              "      \"vega-embed\": \"https://cdn.jsdelivr.net/npm//vega-embed@6?noext\",\n",
              "    };\n",
              "\n",
              "    function maybeLoadScript(lib, version) {\n",
              "      var key = `${lib.replace(\"-\", \"\")}_version`;\n",
              "      return (VEGA_DEBUG[key] == version) ?\n",
              "        Promise.resolve(paths[lib]) :\n",
              "        new Promise(function(resolve, reject) {\n",
              "          var s = document.createElement('script');\n",
              "          document.getElementsByTagName(\"head\")[0].appendChild(s);\n",
              "          s.async = true;\n",
              "          s.onload = () => {\n",
              "            VEGA_DEBUG[key] = version;\n",
              "            return resolve(paths[lib]);\n",
              "          };\n",
              "          s.onerror = () => reject(`Error loading script: ${paths[lib]}`);\n",
              "          s.src = paths[lib];\n",
              "        });\n",
              "    }\n",
              "\n",
              "    function showError(err) {\n",
              "      outputDiv.innerHTML = `<div class=\"error\" style=\"color:red;\">${err}</div>`;\n",
              "      throw err;\n",
              "    }\n",
              "\n",
              "    function displayChart(vegaEmbed) {\n",
              "      vegaEmbed(outputDiv, spec, embedOpt)\n",
              "        .catch(err => showError(`Javascript Error: ${err.message}<br>This usually means there's a typo in your chart specification. See the javascript console for the full traceback.`));\n",
              "    }\n",
              "\n",
              "    if(typeof define === \"function\" && define.amd) {\n",
              "      requirejs.config({paths});\n",
              "      require([\"vega-embed\"], displayChart, err => showError(`Error loading script: ${err.message}`));\n",
              "    } else {\n",
              "      maybeLoadScript(\"vega\", \"5\")\n",
              "        .then(() => maybeLoadScript(\"vega-lite\", \"4.17.0\"))\n",
              "        .then(() => maybeLoadScript(\"vega-embed\", \"6\"))\n",
              "        .catch(showError)\n",
              "        .then(() => displayChart(vegaEmbed));\n",
              "    }\n",
              "  })({\"config\": {\"view\": {\"continuousWidth\": 400, \"continuousHeight\": 300}}, \"data\": {\"name\": \"data-ca0ced7642aa3b5d5aa250f64685fd0d\"}, \"mark\": \"point\", \"encoding\": {\"color\": {\"field\": \"Categoria\", \"scale\": {\"scheme\": \"darkblue\"}, \"type\": \"nominal\"}, \"x\": {\"field\": \"Fecha\", \"type\": \"temporal\"}, \"y\": {\"axis\": {\"title\": \"Ventas de cada d\\u00eda\"}, \"field\": \"Ventas\", \"scale\": {\"domain\": [100, 200], \"reverse\": true}, \"type\": \"quantitative\"}}, \"$schema\": \"https://vega.github.io/schema/vega-lite/v4.17.0.json\", \"datasets\": {\"data-ca0ced7642aa3b5d5aa250f64685fd0d\": [{\"Fecha\": \"2023-01-01T00:00:00\", \"Ventas\": 100, \"Gastos\": 50, \"Categoria\": \"A\"}, {\"Fecha\": \"2023-01-02T00:00:00\", \"Ventas\": 150, \"Gastos\": 60, \"Categoria\": \"B\"}, {\"Fecha\": \"2023-01-03T00:00:00\", \"Ventas\": 120, \"Gastos\": 55, \"Categoria\": \"A\"}, {\"Fecha\": \"2023-01-04T00:00:00\", \"Ventas\": 180, \"Gastos\": 70, \"Categoria\": \"B\"}, {\"Fecha\": \"2023-01-05T00:00:00\", \"Ventas\": 200, \"Gastos\": 80, \"Categoria\": \"A\"}]}}, {\"mode\": \"vega-lite\"});\n",
              "</script>"
            ],
            "text/plain": [
              "alt.Chart(...)"
            ]
          },
          "metadata": {},
          "execution_count": 18
        }
      ]
    },
    {
      "cell_type": "markdown",
      "source": [
        "En este ejemplo hemos alterado el eje y para cambiar el dominio en el que toman valores, y usamos reverse para invertir los valores, de forma que los valores de venta van de mayor a menor ascendentemente."
      ],
      "metadata": {
        "id": "QYaa5nvFWHiS"
      }
    },
    {
      "cell_type": "markdown",
      "source": [
        "## Cambiar o definir el tipo de dato.\n",
        "\n",
        "También es posible cambiar unos datos originales para que en nuestra gráfica sean tratados de distinta forma, por ejemplo, supongamos que tenemos el siguiente dataframe:"
      ],
      "metadata": {
        "id": "wz6uC4vlWnjk"
      }
    },
    {
      "cell_type": "code",
      "source": [
        "# Consideramos el df:\n",
        "\n",
        "wrong_dataframe = pd.DataFrame({\n",
        "    'Estudiante': ['Miguel', 'Gines', 'Alba', 'Ismael', 'Irene'],\n",
        "    'Deporte favorito' : [1, 2, 2, 3, 1]\n",
        "})\n"
      ],
      "metadata": {
        "id": "GbX-z9LtWzlq"
      },
      "execution_count": null,
      "outputs": []
    },
    {
      "cell_type": "markdown",
      "source": [
        "Donde cada número va asociado a un deporte. Si no alteramos nada, al plotear deporte favorito, será tomado como variable cuantitativa, cuando lo que nos interesa es considerarla una variable cualitativa (el número identificador en este caso solo nos interesa por la frecuencia en la que se repite), por lo que podríamos hacer:"
      ],
      "metadata": {
        "id": "mcUXrANJX076"
      }
    },
    {
      "cell_type": "code",
      "source": [
        "# Primera forma, usando type=\n",
        "\n",
        "alt.Chart(wrong_dataframe).mark_bar().encode(\n",
        "    alt.X('Deporte favorito', type='nominal'),\n",
        "    alt.Y('count()')\n",
        ")"
      ],
      "metadata": {
        "colab": {
          "base_uri": "https://localhost:8080/",
          "height": 419
        },
        "id": "QlcofaKYYG7a",
        "outputId": "f4796f94-8f71-47a1-deef-8cbaf01a5e4d"
      },
      "execution_count": null,
      "outputs": [
        {
          "output_type": "stream",
          "name": "stderr",
          "text": [
            "/usr/local/lib/python3.10/dist-packages/altair/utils/core.py:384: FutureWarning: the convert_dtype parameter is deprecated and will be removed in a future version.  Do ``ser.astype(object).apply()`` instead if you want ``convert_dtype=False``.\n",
            "  col = df[col_name].apply(to_list_if_array, convert_dtype=False)\n"
          ]
        },
        {
          "output_type": "execute_result",
          "data": {
            "text/html": [
              "\n",
              "<div id=\"altair-viz-0786ee3915174680b4f93bd006eae665\"></div>\n",
              "<script type=\"text/javascript\">\n",
              "  var VEGA_DEBUG = (typeof VEGA_DEBUG == \"undefined\") ? {} : VEGA_DEBUG;\n",
              "  (function(spec, embedOpt){\n",
              "    let outputDiv = document.currentScript.previousElementSibling;\n",
              "    if (outputDiv.id !== \"altair-viz-0786ee3915174680b4f93bd006eae665\") {\n",
              "      outputDiv = document.getElementById(\"altair-viz-0786ee3915174680b4f93bd006eae665\");\n",
              "    }\n",
              "    const paths = {\n",
              "      \"vega\": \"https://cdn.jsdelivr.net/npm//vega@5?noext\",\n",
              "      \"vega-lib\": \"https://cdn.jsdelivr.net/npm//vega-lib?noext\",\n",
              "      \"vega-lite\": \"https://cdn.jsdelivr.net/npm//vega-lite@4.17.0?noext\",\n",
              "      \"vega-embed\": \"https://cdn.jsdelivr.net/npm//vega-embed@6?noext\",\n",
              "    };\n",
              "\n",
              "    function maybeLoadScript(lib, version) {\n",
              "      var key = `${lib.replace(\"-\", \"\")}_version`;\n",
              "      return (VEGA_DEBUG[key] == version) ?\n",
              "        Promise.resolve(paths[lib]) :\n",
              "        new Promise(function(resolve, reject) {\n",
              "          var s = document.createElement('script');\n",
              "          document.getElementsByTagName(\"head\")[0].appendChild(s);\n",
              "          s.async = true;\n",
              "          s.onload = () => {\n",
              "            VEGA_DEBUG[key] = version;\n",
              "            return resolve(paths[lib]);\n",
              "          };\n",
              "          s.onerror = () => reject(`Error loading script: ${paths[lib]}`);\n",
              "          s.src = paths[lib];\n",
              "        });\n",
              "    }\n",
              "\n",
              "    function showError(err) {\n",
              "      outputDiv.innerHTML = `<div class=\"error\" style=\"color:red;\">${err}</div>`;\n",
              "      throw err;\n",
              "    }\n",
              "\n",
              "    function displayChart(vegaEmbed) {\n",
              "      vegaEmbed(outputDiv, spec, embedOpt)\n",
              "        .catch(err => showError(`Javascript Error: ${err.message}<br>This usually means there's a typo in your chart specification. See the javascript console for the full traceback.`));\n",
              "    }\n",
              "\n",
              "    if(typeof define === \"function\" && define.amd) {\n",
              "      requirejs.config({paths});\n",
              "      require([\"vega-embed\"], displayChart, err => showError(`Error loading script: ${err.message}`));\n",
              "    } else {\n",
              "      maybeLoadScript(\"vega\", \"5\")\n",
              "        .then(() => maybeLoadScript(\"vega-lite\", \"4.17.0\"))\n",
              "        .then(() => maybeLoadScript(\"vega-embed\", \"6\"))\n",
              "        .catch(showError)\n",
              "        .then(() => displayChart(vegaEmbed));\n",
              "    }\n",
              "  })({\"config\": {\"view\": {\"continuousWidth\": 400, \"continuousHeight\": 300}}, \"data\": {\"name\": \"data-914433dc2f25961c86b9aba46c54885a\"}, \"mark\": \"bar\", \"encoding\": {\"x\": {\"field\": \"Deporte favorito\", \"type\": \"nominal\"}, \"y\": {\"aggregate\": \"count\", \"type\": \"quantitative\"}}, \"$schema\": \"https://vega.github.io/schema/vega-lite/v4.17.0.json\", \"datasets\": {\"data-914433dc2f25961c86b9aba46c54885a\": [{\"Estudiante\": \"Miguel\", \"Deporte favorito\": 1}, {\"Estudiante\": \"Gines\", \"Deporte favorito\": 2}, {\"Estudiante\": \"Alba\", \"Deporte favorito\": 2}, {\"Estudiante\": \"Ismael\", \"Deporte favorito\": 3}, {\"Estudiante\": \"Irene\", \"Deporte favorito\": 1}]}}, {\"mode\": \"vega-lite\"});\n",
              "</script>"
            ],
            "text/plain": [
              "alt.Chart(...)"
            ]
          },
          "metadata": {},
          "execution_count": 23
        }
      ]
    },
    {
      "cell_type": "code",
      "source": [
        "# Segunda forma, usando las abreviaturas:\n",
        "\n",
        "alt.Chart(wrong_dataframe).mark_bar().encode(\n",
        "    x='Deporte favorito:N',\n",
        "    y='count()'\n",
        ")"
      ],
      "metadata": {
        "colab": {
          "base_uri": "https://localhost:8080/",
          "height": 419
        },
        "id": "8g31l1B7YUoi",
        "outputId": "ce55e018-4bc5-4ad9-ad46-bff4759efb90"
      },
      "execution_count": null,
      "outputs": [
        {
          "output_type": "stream",
          "name": "stderr",
          "text": [
            "/usr/local/lib/python3.10/dist-packages/altair/utils/core.py:384: FutureWarning: the convert_dtype parameter is deprecated and will be removed in a future version.  Do ``ser.astype(object).apply()`` instead if you want ``convert_dtype=False``.\n",
            "  col = df[col_name].apply(to_list_if_array, convert_dtype=False)\n"
          ]
        },
        {
          "output_type": "execute_result",
          "data": {
            "text/html": [
              "\n",
              "<div id=\"altair-viz-033f68e45c674273aae5553c9c235224\"></div>\n",
              "<script type=\"text/javascript\">\n",
              "  var VEGA_DEBUG = (typeof VEGA_DEBUG == \"undefined\") ? {} : VEGA_DEBUG;\n",
              "  (function(spec, embedOpt){\n",
              "    let outputDiv = document.currentScript.previousElementSibling;\n",
              "    if (outputDiv.id !== \"altair-viz-033f68e45c674273aae5553c9c235224\") {\n",
              "      outputDiv = document.getElementById(\"altair-viz-033f68e45c674273aae5553c9c235224\");\n",
              "    }\n",
              "    const paths = {\n",
              "      \"vega\": \"https://cdn.jsdelivr.net/npm//vega@5?noext\",\n",
              "      \"vega-lib\": \"https://cdn.jsdelivr.net/npm//vega-lib?noext\",\n",
              "      \"vega-lite\": \"https://cdn.jsdelivr.net/npm//vega-lite@4.17.0?noext\",\n",
              "      \"vega-embed\": \"https://cdn.jsdelivr.net/npm//vega-embed@6?noext\",\n",
              "    };\n",
              "\n",
              "    function maybeLoadScript(lib, version) {\n",
              "      var key = `${lib.replace(\"-\", \"\")}_version`;\n",
              "      return (VEGA_DEBUG[key] == version) ?\n",
              "        Promise.resolve(paths[lib]) :\n",
              "        new Promise(function(resolve, reject) {\n",
              "          var s = document.createElement('script');\n",
              "          document.getElementsByTagName(\"head\")[0].appendChild(s);\n",
              "          s.async = true;\n",
              "          s.onload = () => {\n",
              "            VEGA_DEBUG[key] = version;\n",
              "            return resolve(paths[lib]);\n",
              "          };\n",
              "          s.onerror = () => reject(`Error loading script: ${paths[lib]}`);\n",
              "          s.src = paths[lib];\n",
              "        });\n",
              "    }\n",
              "\n",
              "    function showError(err) {\n",
              "      outputDiv.innerHTML = `<div class=\"error\" style=\"color:red;\">${err}</div>`;\n",
              "      throw err;\n",
              "    }\n",
              "\n",
              "    function displayChart(vegaEmbed) {\n",
              "      vegaEmbed(outputDiv, spec, embedOpt)\n",
              "        .catch(err => showError(`Javascript Error: ${err.message}<br>This usually means there's a typo in your chart specification. See the javascript console for the full traceback.`));\n",
              "    }\n",
              "\n",
              "    if(typeof define === \"function\" && define.amd) {\n",
              "      requirejs.config({paths});\n",
              "      require([\"vega-embed\"], displayChart, err => showError(`Error loading script: ${err.message}`));\n",
              "    } else {\n",
              "      maybeLoadScript(\"vega\", \"5\")\n",
              "        .then(() => maybeLoadScript(\"vega-lite\", \"4.17.0\"))\n",
              "        .then(() => maybeLoadScript(\"vega-embed\", \"6\"))\n",
              "        .catch(showError)\n",
              "        .then(() => displayChart(vegaEmbed));\n",
              "    }\n",
              "  })({\"config\": {\"view\": {\"continuousWidth\": 400, \"continuousHeight\": 300}}, \"data\": {\"name\": \"data-914433dc2f25961c86b9aba46c54885a\"}, \"mark\": \"bar\", \"encoding\": {\"x\": {\"field\": \"Deporte favorito\", \"type\": \"nominal\"}, \"y\": {\"aggregate\": \"count\", \"type\": \"quantitative\"}}, \"$schema\": \"https://vega.github.io/schema/vega-lite/v4.17.0.json\", \"datasets\": {\"data-914433dc2f25961c86b9aba46c54885a\": [{\"Estudiante\": \"Miguel\", \"Deporte favorito\": 1}, {\"Estudiante\": \"Gines\", \"Deporte favorito\": 2}, {\"Estudiante\": \"Alba\", \"Deporte favorito\": 2}, {\"Estudiante\": \"Ismael\", \"Deporte favorito\": 3}, {\"Estudiante\": \"Irene\", \"Deporte favorito\": 1}]}}, {\"mode\": \"vega-lite\"});\n",
              "</script>"
            ],
            "text/plain": [
              "alt.Chart(...)"
            ]
          },
          "metadata": {},
          "execution_count": 24
        }
      ]
    },
    {
      "cell_type": "markdown",
      "source": [
        "En particular, podemos elegir entre: 'Quantitative' ('Q'), 'Nominal' ('N'), 'Ordinal' ('O'), 'Temporal' ('T'), 'geojson' ('G'), esta última hace referencia a figuras geométricas."
      ],
      "metadata": {
        "id": "9E2FPp5ZYaqi"
      }
    },
    {
      "cell_type": "markdown",
      "source": [
        "# Funciones de Agregación.\n",
        "\n",
        "En el anterior ejemplo, hemos usado como variable para el eje Y count(), por lo que hemos adelantado otra herramienta útil de Altair. Esta librería nos permite usar funciones de agregación dentro del encoding, como por ejemplo mean(), median(), min() o max().\n",
        "\n",
        "Se puede hacer de dos formas, si quisieramos simplemente usar una función de agregación sobre una columna en específico haríamos:"
      ],
      "metadata": {
        "id": "pW8lVW0rY8kD"
      }
    },
    {
      "cell_type": "code",
      "source": [
        "students_data = {\n",
        "    'Estudiante': ['Ana', 'Juan', 'Pedro', 'Maria', 'Luis'] * 2,\n",
        "    'Asignatura': ['Matematicas', 'Fisica'] * 5,\n",
        "    'Nota': np.random.randint(0, 10, size=10)\n",
        "}\n",
        "\n",
        "students_df = pd.DataFrame(students_data)\n",
        "\n",
        "alt.Chart(students_df).mark_point().encode(\n",
        "    x='Asignatura',\n",
        "    y='mean(Nota)',\n",
        ")\n"
      ],
      "metadata": {
        "colab": {
          "base_uri": "https://localhost:8080/",
          "height": 505
        },
        "id": "9ce4UbHYaaEi",
        "outputId": "0c841045-6007-40c8-b0be-9a8508d70547"
      },
      "execution_count": null,
      "outputs": [
        {
          "output_type": "stream",
          "name": "stderr",
          "text": [
            "/usr/local/lib/python3.10/dist-packages/altair/utils/core.py:384: FutureWarning: the convert_dtype parameter is deprecated and will be removed in a future version.  Do ``ser.astype(object).apply()`` instead if you want ``convert_dtype=False``.\n",
            "  col = df[col_name].apply(to_list_if_array, convert_dtype=False)\n",
            "/usr/local/lib/python3.10/dist-packages/altair/utils/core.py:384: FutureWarning: the convert_dtype parameter is deprecated and will be removed in a future version.  Do ``ser.astype(object).apply()`` instead if you want ``convert_dtype=False``.\n",
            "  col = df[col_name].apply(to_list_if_array, convert_dtype=False)\n"
          ]
        },
        {
          "output_type": "execute_result",
          "data": {
            "text/html": [
              "\n",
              "<div id=\"altair-viz-0721781ba87c4de6a04f5c8c2f411b0e\"></div>\n",
              "<script type=\"text/javascript\">\n",
              "  var VEGA_DEBUG = (typeof VEGA_DEBUG == \"undefined\") ? {} : VEGA_DEBUG;\n",
              "  (function(spec, embedOpt){\n",
              "    let outputDiv = document.currentScript.previousElementSibling;\n",
              "    if (outputDiv.id !== \"altair-viz-0721781ba87c4de6a04f5c8c2f411b0e\") {\n",
              "      outputDiv = document.getElementById(\"altair-viz-0721781ba87c4de6a04f5c8c2f411b0e\");\n",
              "    }\n",
              "    const paths = {\n",
              "      \"vega\": \"https://cdn.jsdelivr.net/npm//vega@5?noext\",\n",
              "      \"vega-lib\": \"https://cdn.jsdelivr.net/npm//vega-lib?noext\",\n",
              "      \"vega-lite\": \"https://cdn.jsdelivr.net/npm//vega-lite@4.17.0?noext\",\n",
              "      \"vega-embed\": \"https://cdn.jsdelivr.net/npm//vega-embed@6?noext\",\n",
              "    };\n",
              "\n",
              "    function maybeLoadScript(lib, version) {\n",
              "      var key = `${lib.replace(\"-\", \"\")}_version`;\n",
              "      return (VEGA_DEBUG[key] == version) ?\n",
              "        Promise.resolve(paths[lib]) :\n",
              "        new Promise(function(resolve, reject) {\n",
              "          var s = document.createElement('script');\n",
              "          document.getElementsByTagName(\"head\")[0].appendChild(s);\n",
              "          s.async = true;\n",
              "          s.onload = () => {\n",
              "            VEGA_DEBUG[key] = version;\n",
              "            return resolve(paths[lib]);\n",
              "          };\n",
              "          s.onerror = () => reject(`Error loading script: ${paths[lib]}`);\n",
              "          s.src = paths[lib];\n",
              "        });\n",
              "    }\n",
              "\n",
              "    function showError(err) {\n",
              "      outputDiv.innerHTML = `<div class=\"error\" style=\"color:red;\">${err}</div>`;\n",
              "      throw err;\n",
              "    }\n",
              "\n",
              "    function displayChart(vegaEmbed) {\n",
              "      vegaEmbed(outputDiv, spec, embedOpt)\n",
              "        .catch(err => showError(`Javascript Error: ${err.message}<br>This usually means there's a typo in your chart specification. See the javascript console for the full traceback.`));\n",
              "    }\n",
              "\n",
              "    if(typeof define === \"function\" && define.amd) {\n",
              "      requirejs.config({paths});\n",
              "      require([\"vega-embed\"], displayChart, err => showError(`Error loading script: ${err.message}`));\n",
              "    } else {\n",
              "      maybeLoadScript(\"vega\", \"5\")\n",
              "        .then(() => maybeLoadScript(\"vega-lite\", \"4.17.0\"))\n",
              "        .then(() => maybeLoadScript(\"vega-embed\", \"6\"))\n",
              "        .catch(showError)\n",
              "        .then(() => displayChart(vegaEmbed));\n",
              "    }\n",
              "  })({\"config\": {\"view\": {\"continuousWidth\": 400, \"continuousHeight\": 300}}, \"data\": {\"name\": \"data-a36e0f75ab57662631c50313676e0c58\"}, \"mark\": \"point\", \"encoding\": {\"x\": {\"field\": \"Asignatura\", \"type\": \"nominal\"}, \"y\": {\"aggregate\": \"mean\", \"field\": \"Nota\", \"type\": \"quantitative\"}}, \"$schema\": \"https://vega.github.io/schema/vega-lite/v4.17.0.json\", \"datasets\": {\"data-a36e0f75ab57662631c50313676e0c58\": [{\"Estudiante\": \"Ana\", \"Asignatura\": \"Matematicas\", \"Nota\": 1}, {\"Estudiante\": \"Juan\", \"Asignatura\": \"Fisica\", \"Nota\": 1}, {\"Estudiante\": \"Pedro\", \"Asignatura\": \"Matematicas\", \"Nota\": 0}, {\"Estudiante\": \"Maria\", \"Asignatura\": \"Fisica\", \"Nota\": 6}, {\"Estudiante\": \"Luis\", \"Asignatura\": \"Matematicas\", \"Nota\": 8}, {\"Estudiante\": \"Ana\", \"Asignatura\": \"Fisica\", \"Nota\": 9}, {\"Estudiante\": \"Juan\", \"Asignatura\": \"Matematicas\", \"Nota\": 1}, {\"Estudiante\": \"Pedro\", \"Asignatura\": \"Fisica\", \"Nota\": 8}, {\"Estudiante\": \"Maria\", \"Asignatura\": \"Matematicas\", \"Nota\": 0}, {\"Estudiante\": \"Luis\", \"Asignatura\": \"Fisica\", \"Nota\": 2}]}}, {\"mode\": \"vega-lite\"});\n",
              "</script>"
            ],
            "text/plain": [
              "alt.Chart(...)"
            ]
          },
          "metadata": {},
          "execution_count": 39
        }
      ]
    },
    {
      "cell_type": "markdown",
      "source": [
        "Si no se especifica nada dentro de agg_function(), se asume que se va a calcular sobre la otra variable ploteada."
      ],
      "metadata": {
        "id": "Qr8CFAYWazSy"
      }
    },
    {
      "cell_type": "markdown",
      "source": [
        "## Método transform_aggregate.\n",
        "\n",
        "Otra forma interesante de trabajar con funciones de agregación es usar el método transform_aggregate.\n",
        "\n",
        "Este método nos permite especificar cómo se va a hacer la agregación, acepta los parámetros:\n",
        "\n",
        "\n",
        "\n",
        "*   Aggregate= Array(AggregatedField): Array de los objetos que definen los campos a agregar\n",
        "*   groupby=Array(Nombres de los campos): Los campos mediante los cuales se quiere agrupar (igual que SQL).\n",
        "\n",
        "A su vez, el campo AggregatedField admite las siguientes opciones:\n",
        "\n",
        "\n",
        "\n",
        "1.   as: Nombre que se le quiere dar a los outputs de las operaciones.\n",
        "2.   field: Nombre del campo al que se le quiere aplicar la función.\n",
        "3.   op: Operación a realizar. Esto es obligatorio especificarlo.\n",
        "\n",
        "\n",
        "\n",
        "\n"
      ],
      "metadata": {
        "id": "ayR1ra15a6XK"
      }
    },
    {
      "cell_type": "code",
      "source": [
        "# Usamos un dataframe de ejemplo:\n",
        "\n",
        "city_data = {\n",
        "    'Fecha': pd.to_datetime(['2023-01-' + str(i) for i in range(1, 21)]),\n",
        "    'Ciudad': np.random.choice(['Madrid', 'Barcelona', 'Valencia', 'Sevilla'], size=20),\n",
        "    'Temperatura': np.random.randint(10, 30, size=20),\n",
        "    'Humedad': np.random.randint(40, 90, size=20),\n",
        "    'Viento': np.random.randint(0, 20, size=20)\n",
        "}\n",
        "\n",
        "city_df = pd.DataFrame(city_data)\n",
        "\n",
        "alt.Chart(city_df).mark_bar().encode(\n",
        "    x='Ciudad',\n",
        "    y='mean_hum:Q'\n",
        ").transform_aggregate(\n",
        "    mean_hum='mean(Humedad)',\n",
        "    groupby=['Ciudad']\n",
        ")"
      ],
      "metadata": {
        "colab": {
          "base_uri": "https://localhost:8080/",
          "height": 459
        },
        "id": "fdE0brbOcWux",
        "outputId": "7a7f970d-fab9-433b-b49b-d1f82faf0f92"
      },
      "execution_count": null,
      "outputs": [
        {
          "output_type": "stream",
          "name": "stderr",
          "text": [
            "/usr/local/lib/python3.10/dist-packages/altair/utils/core.py:384: FutureWarning: the convert_dtype parameter is deprecated and will be removed in a future version.  Do ``ser.astype(object).apply()`` instead if you want ``convert_dtype=False``.\n",
            "  col = df[col_name].apply(to_list_if_array, convert_dtype=False)\n"
          ]
        },
        {
          "output_type": "execute_result",
          "data": {
            "text/html": [
              "\n",
              "<div id=\"altair-viz-21f7c302d94443649bd9bad46b869e31\"></div>\n",
              "<script type=\"text/javascript\">\n",
              "  var VEGA_DEBUG = (typeof VEGA_DEBUG == \"undefined\") ? {} : VEGA_DEBUG;\n",
              "  (function(spec, embedOpt){\n",
              "    let outputDiv = document.currentScript.previousElementSibling;\n",
              "    if (outputDiv.id !== \"altair-viz-21f7c302d94443649bd9bad46b869e31\") {\n",
              "      outputDiv = document.getElementById(\"altair-viz-21f7c302d94443649bd9bad46b869e31\");\n",
              "    }\n",
              "    const paths = {\n",
              "      \"vega\": \"https://cdn.jsdelivr.net/npm//vega@5?noext\",\n",
              "      \"vega-lib\": \"https://cdn.jsdelivr.net/npm//vega-lib?noext\",\n",
              "      \"vega-lite\": \"https://cdn.jsdelivr.net/npm//vega-lite@4.17.0?noext\",\n",
              "      \"vega-embed\": \"https://cdn.jsdelivr.net/npm//vega-embed@6?noext\",\n",
              "    };\n",
              "\n",
              "    function maybeLoadScript(lib, version) {\n",
              "      var key = `${lib.replace(\"-\", \"\")}_version`;\n",
              "      return (VEGA_DEBUG[key] == version) ?\n",
              "        Promise.resolve(paths[lib]) :\n",
              "        new Promise(function(resolve, reject) {\n",
              "          var s = document.createElement('script');\n",
              "          document.getElementsByTagName(\"head\")[0].appendChild(s);\n",
              "          s.async = true;\n",
              "          s.onload = () => {\n",
              "            VEGA_DEBUG[key] = version;\n",
              "            return resolve(paths[lib]);\n",
              "          };\n",
              "          s.onerror = () => reject(`Error loading script: ${paths[lib]}`);\n",
              "          s.src = paths[lib];\n",
              "        });\n",
              "    }\n",
              "\n",
              "    function showError(err) {\n",
              "      outputDiv.innerHTML = `<div class=\"error\" style=\"color:red;\">${err}</div>`;\n",
              "      throw err;\n",
              "    }\n",
              "\n",
              "    function displayChart(vegaEmbed) {\n",
              "      vegaEmbed(outputDiv, spec, embedOpt)\n",
              "        .catch(err => showError(`Javascript Error: ${err.message}<br>This usually means there's a typo in your chart specification. See the javascript console for the full traceback.`));\n",
              "    }\n",
              "\n",
              "    if(typeof define === \"function\" && define.amd) {\n",
              "      requirejs.config({paths});\n",
              "      require([\"vega-embed\"], displayChart, err => showError(`Error loading script: ${err.message}`));\n",
              "    } else {\n",
              "      maybeLoadScript(\"vega\", \"5\")\n",
              "        .then(() => maybeLoadScript(\"vega-lite\", \"4.17.0\"))\n",
              "        .then(() => maybeLoadScript(\"vega-embed\", \"6\"))\n",
              "        .catch(showError)\n",
              "        .then(() => displayChart(vegaEmbed));\n",
              "    }\n",
              "  })({\"config\": {\"view\": {\"continuousWidth\": 400, \"continuousHeight\": 300}}, \"data\": {\"name\": \"data-3dbd75ff7b6e5f234a356c37a2b363d5\"}, \"mark\": \"bar\", \"encoding\": {\"x\": {\"field\": \"Ciudad\", \"type\": \"nominal\"}, \"y\": {\"field\": \"mean_hum\", \"type\": \"quantitative\"}}, \"transform\": [{\"aggregate\": [{\"op\": \"mean\", \"field\": \"Humedad\", \"as\": \"mean_hum\"}], \"groupby\": [\"Ciudad\"]}], \"$schema\": \"https://vega.github.io/schema/vega-lite/v4.17.0.json\", \"datasets\": {\"data-3dbd75ff7b6e5f234a356c37a2b363d5\": [{\"Fecha\": \"2023-01-01T00:00:00\", \"Ciudad\": \"Valencia\", \"Temperatura\": 19, \"Humedad\": 82, \"Viento\": 6}, {\"Fecha\": \"2023-01-02T00:00:00\", \"Ciudad\": \"Valencia\", \"Temperatura\": 13, \"Humedad\": 48, \"Viento\": 10}, {\"Fecha\": \"2023-01-03T00:00:00\", \"Ciudad\": \"Barcelona\", \"Temperatura\": 20, \"Humedad\": 63, \"Viento\": 6}, {\"Fecha\": \"2023-01-04T00:00:00\", \"Ciudad\": \"Madrid\", \"Temperatura\": 26, \"Humedad\": 74, \"Viento\": 3}, {\"Fecha\": \"2023-01-05T00:00:00\", \"Ciudad\": \"Valencia\", \"Temperatura\": 17, \"Humedad\": 68, \"Viento\": 13}, {\"Fecha\": \"2023-01-06T00:00:00\", \"Ciudad\": \"Valencia\", \"Temperatura\": 17, \"Humedad\": 69, \"Viento\": 15}, {\"Fecha\": \"2023-01-07T00:00:00\", \"Ciudad\": \"Sevilla\", \"Temperatura\": 19, \"Humedad\": 66, \"Viento\": 7}, {\"Fecha\": \"2023-01-08T00:00:00\", \"Ciudad\": \"Madrid\", \"Temperatura\": 14, \"Humedad\": 40, \"Viento\": 7}, {\"Fecha\": \"2023-01-09T00:00:00\", \"Ciudad\": \"Valencia\", \"Temperatura\": 16, \"Humedad\": 69, \"Viento\": 16}, {\"Fecha\": \"2023-01-10T00:00:00\", \"Ciudad\": \"Madrid\", \"Temperatura\": 29, \"Humedad\": 80, \"Viento\": 10}, {\"Fecha\": \"2023-01-11T00:00:00\", \"Ciudad\": \"Barcelona\", \"Temperatura\": 12, \"Humedad\": 56, \"Viento\": 12}, {\"Fecha\": \"2023-01-12T00:00:00\", \"Ciudad\": \"Madrid\", \"Temperatura\": 26, \"Humedad\": 53, \"Viento\": 5}, {\"Fecha\": \"2023-01-13T00:00:00\", \"Ciudad\": \"Valencia\", \"Temperatura\": 21, \"Humedad\": 69, \"Viento\": 16}, {\"Fecha\": \"2023-01-14T00:00:00\", \"Ciudad\": \"Madrid\", \"Temperatura\": 19, \"Humedad\": 58, \"Viento\": 18}, {\"Fecha\": \"2023-01-15T00:00:00\", \"Ciudad\": \"Barcelona\", \"Temperatura\": 26, \"Humedad\": 83, \"Viento\": 4}, {\"Fecha\": \"2023-01-16T00:00:00\", \"Ciudad\": \"Madrid\", \"Temperatura\": 16, \"Humedad\": 56, \"Viento\": 15}, {\"Fecha\": \"2023-01-17T00:00:00\", \"Ciudad\": \"Barcelona\", \"Temperatura\": 16, \"Humedad\": 55, \"Viento\": 7}, {\"Fecha\": \"2023-01-18T00:00:00\", \"Ciudad\": \"Sevilla\", \"Temperatura\": 13, \"Humedad\": 73, \"Viento\": 3}, {\"Fecha\": \"2023-01-19T00:00:00\", \"Ciudad\": \"Barcelona\", \"Temperatura\": 10, \"Humedad\": 40, \"Viento\": 7}, {\"Fecha\": \"2023-01-20T00:00:00\", \"Ciudad\": \"Sevilla\", \"Temperatura\": 15, \"Humedad\": 57, \"Viento\": 5}]}}, {\"mode\": \"vega-lite\"});\n",
              "</script>"
            ],
            "text/plain": [
              "alt.Chart(...)"
            ]
          },
          "metadata": {},
          "execution_count": 31
        }
      ]
    },
    {
      "cell_type": "markdown",
      "source": [
        "En el siguiente Notebook veremos detenidamente más opciones para transformar datos y visualizarlos."
      ],
      "metadata": {
        "id": "1AE0Z96ZddCq"
      }
    },
    {
      "cell_type": "markdown",
      "source": [
        "## Con respecto a más marks y métodos de transformación de datos.\n",
        "\n",
        "Más allá de las herramientas de mark y transformación de datos que hemos introducido aquí y que estudiaremos en la siguiente práctica, hay muchas más opciones de visualización, algunas se incluirán en los ejercicios pero si el usuario tiene curiosidad, dejo por aquí todas ellas:"
      ],
      "metadata": {
        "id": "DiwKeCnWi3DQ"
      }
    },
    {
      "cell_type": "markdown",
      "source": [
        "### Todos los métodos mark.\n",
        "\n",
        "1.  **mark_area**: Crea un gráfico de área, ideal para mostrar la magnitud de cambios a lo largo de una variable continua.\n",
        "\n",
        "2.  **mark_bar**: Dibuja barras verticales u horizontales, comúnmente usado para gráficos de barras o histograma.\n",
        "\n",
        "3.  **mark_boxplot**: Genera un diagrama de caja y bigotes, útil para visualizar la distribución de los datos y detectar valores atípicos.\n",
        "\n",
        "4.  **mark_circle**: Crea gráficos de dispersión con puntos en forma de círculos, generalmente para analizar correlaciones entre variables.\n",
        "\n",
        "5.  **mark_errorband**: Dibuja bandas de error para representar incertidumbre o variabilidad en el valor medio.\n",
        "\n",
        "6.  **mark_errorbar**: Añade barras de error en los gráficos, útiles para representar desviación o intervalo de confianza.\n",
        "\n",
        "7.  **mark_geoshape**: Traza datos geoespaciales; ideal para mapas.\n",
        "\n",
        "8.  **mark_image**: Inserta imágenes en lugar de marcas gráficas, útil en visualizaciones personalizadas.\n",
        "\n",
        "9.  **mark_line**: Dibuja una línea que conecta puntos, especialmente útil para series temporales o gráficos de tendencias.\n",
        "\n",
        "10. **mark_point**: Similar a mark_circle pero con opciones de diferentes formas (puntos, cruces, estrellas).\n",
        "\n",
        "11. **mark_rect**: Crea un gráfico de rectángulos, útil para gráficos de calor o mapas de calor.\n",
        "\n",
        "12. **mark_rule**: Dibuja líneas verticales u horizontales para representar límites, promedios, etc.\n",
        "\n",
        "13. **mark_square**: Genera gráficos de dispersión con puntos en forma de cuadrado.\n",
        "\n",
        "14. **mark_text**: Muestra etiquetas de texto en un gráfico, útil para resaltar valores específicos.\n",
        "\n",
        "15. **mark_tick**: Dibuja pequeñas marcas o \"ticks\" en el gráfico, frecuentemente para gráficos de densidad o distribuciones.\n",
        "\n",
        "16. **mark_trail**: Traza líneas que van incrementando su tamaño, comúnmente para mostrar movimiento o variación en el tiempo."
      ],
      "metadata": {
        "id": "V7ewvf10jko3"
      }
    },
    {
      "cell_type": "markdown",
      "source": [
        "### Todas las formas de transformación de datos.\n",
        "\n",
        "1. **aggregate**: Realiza operaciones de agregación (suma, promedio, conteo, etc.) sobre los datos, útil para agrupar y resumir información.\n",
        "\n",
        "2.  **bin**: Agrupa datos en intervalos (bins), frecuentemente usado en histogramas.\n",
        "\n",
        "3.  **calculate**: Realiza cálculos personalizados y añade los resultados como una nueva columna.\n",
        "\n",
        "4.  **density**: Estima la densidad de probabilidad de una variable, útil para crear funciones de densidad.\n",
        "\n",
        "5.  **filter**: Filtra datos que cumplan con una condición específica.\n",
        "\n",
        "6.  **flatten**: Descompone listas o estructuras anidadas en columnas separadas, útil para trabajar con datos complejos.\n",
        "\n",
        "7.  **fold**: Convierte datos de formato ancho a largo, ideal para trabajar con datos pivotados.\n",
        "\n",
        "8.  **impute**: Completa valores faltantes en una columna, útil para rellenar datos incompletos.\n",
        "\n",
        "9.  **joinaggregate**: Realiza agregaciones y combina los resultados en una nueva columna sin transformar la estructura original de los datos.\n",
        "\n",
        "10. **lookup**: Realiza un emparejamiento entre dos tablas en función de una columna clave compartida.\n",
        "\n",
        "11.  **pivot**: Transforma datos de largo a ancho, ideal para resumir múltiples columnas.\n",
        "\n",
        "12. **quantile**: Calcula los cuantiles de una variable, útil en la creación de gráficos de distribución.\n",
        "\n",
        "13.  **regression**: Calcula una regresión (lineal, cuadrática, etc.) sobre los datos para representar tendencias.\n",
        "\n",
        "14.  **sample**: Toma una muestra de los datos, útil para trabajar con subconjuntos en bases de datos grandes.\n",
        "\n",
        "15.  **stack**: Apila valores en una categoría de modo acumulado, común en gráficos de barras apiladas.\n",
        "\n",
        "16.  **timeunit**: Transforma una fecha en componentes como año, mes, día, etc., útil para trabajar con series temporales.\n",
        "\n",
        "17.  **window**: Realiza operaciones sobre ventanas móviles, como promedio móvil o clasificación."
      ],
      "metadata": {
        "id": "sRBfyP1kkRoF"
      }
    }
  ]
}